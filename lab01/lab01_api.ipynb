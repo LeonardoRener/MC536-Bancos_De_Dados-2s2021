{
  "nbformat": 4,
  "nbformat_minor": 0,
  "metadata": {
    "kernelspec": {
      "display_name": "Python 3",
      "language": "python",
      "name": "python3"
    },
    "language_info": {
      "codemirror_mode": {
        "name": "ipython",
        "version": 3
      },
      "file_extension": ".py",
      "mimetype": "text/x-python",
      "name": "python",
      "nbconvert_exporter": "python",
      "pygments_lexer": "ipython3",
      "version": "3.7.10"
    },
    "toc": {
      "base_numbering": 1,
      "nav_menu": {},
      "number_sections": false,
      "sideBar": false,
      "skip_h1_title": false,
      "title_cell": "Table of Contents",
      "title_sidebar": "Contents",
      "toc_cell": false,
      "toc_position": {},
      "toc_section_display": false,
      "toc_window_display": false
    },
    "colab": {
      "name": "lab01-api.ipynb",
      "provenance": [],
      "collapsed_sections": []
    }
  },
  "cells": [
    {
      "cell_type": "markdown",
      "metadata": {
        "id": "SfREB5brGgJh"
      },
      "source": [
        "# Lab 1 - API de Acesso a Dados"
      ]
    },
    {
      "cell_type": "markdown",
      "metadata": {
        "id": "PH2iZgq7GgJl"
      },
      "source": [
        "\n",
        "# Tarefa 1\n",
        "\n",
        "Das fontes de dados disponíveis, tente encontrar fontes com formatos diferentes e importá-las via Python. Busque pelo menos dois formatos."
      ]
    },
    {
      "cell_type": "code",
      "metadata": {
        "colab": {
          "base_uri": "https://localhost:8080/"
        },
        "id": "OTtAJijoGgJm",
        "outputId": "31595f8f-c022-416b-c648-12695516c0f5"
      },
      "source": [
        "# Usando CSV\n",
        "# Numero de municipios com CAPS, entre  2008 e 2017\n",
        "\n",
        "import io\n",
        "import requests\n",
        "import pandas as pd\n",
        "\n",
        "url = \"https://sage.saude.gov.br/graficos/caps/municipios.php?output=csv\"\n",
        "csv = pd.read_csv(io.StringIO(requests.get(url).content.decode(\"utf-8\")), sep=\",\")\n",
        "print(csv)"
      ],
      "execution_count": null,
      "outputs": [
        {
          "output_type": "stream",
          "text": [
            "    Ano  Número de municípios\n",
            "0  2008                  1178\n",
            "1  2009                  1294\n",
            "2  2010                  1437\n",
            "3  2011                  1508\n",
            "4  2012                  1719\n",
            "5  2013                  2067\n",
            "6  2014                  2209\n",
            "7  2015                  2328\n",
            "8  2016                  2340\n",
            "9  2017                  2341\n"
          ],
          "name": "stdout"
        }
      ]
    },
    {
      "cell_type": "code",
      "metadata": {
        "colab": {
          "base_uri": "https://localhost:8080/"
        },
        "id": "-KCT8IJMGgJn",
        "outputId": "b75a4df3-1228-4a98-d6c1-052dc0bd836a"
      },
      "source": [
        "# Usando JSON\n",
        "# Registro de Ocupação Hospitalar COVID-19\n",
        "\n",
        "import pandas as pd\n",
        "import io\n",
        "import requests\n",
        "from requests.auth import HTTPBasicAuth\n",
        "\n",
        "url = \"https://elastic-leitos.saude.gov.br/leito_ocupacao/_search\"\n",
        "user = \"user-api-leitos\"\n",
        "senha = \"aQbLL3ZStaTr38tj\"\n",
        "data = requests.get(url, auth=HTTPBasicAuth(user, senha)).content\n",
        "print(data.decode(\"utf-8\"))"
      ],
      "execution_count": 4,
      "outputs": [
        {
          "output_type": "stream",
          "text": [
            "{\"took\":6,\"timed_out\":false,\"_shards\":{\"total\":3,\"successful\":3,\"skipped\":0,\"failed\":0},\"hits\":{\"total\":{\"value\":4091,\"relation\":\"eq\"},\"max_score\":1.0,\"hits\":[{\"_index\":\"leito_ocupacao\",\"_type\":\"_doc\",\"_id\":\"2712016\",\"_score\":1.0,\"_source\":{\"estado\":\"Pernambuco\",\"estadoSigla\":\"PE\",\"municipio\":\"Sertânia\",\"cnes\":\"2712016\",\"nomeCnes\":\"HOSPITAL MARIA ALICE GOMES LAFAYETTE\",\"dataNotificacaoOcupacao\":\"2020-11-27T03:00:19.869Z\",\"ofertaRespiradores\":0,\"ofertaHospCli\":54,\"ofertaHospUti\":0,\"ofertaSRAGCli\":18,\"ofertaSRAGUti\":0,\"ocupHospCli\":6,\"ocupHospUti\":0,\"ocupSRAGCli\":4,\"ocupSRAGUti\":0,\"altas\":0,\"obitos\":0,\"ocupacaoInformada\":true,\"algumaOcupacaoInformada\":true}},{\"_index\":\"leito_ocupacao\",\"_type\":\"_doc\",\"_id\":\"0116335\",\"_score\":1.0,\"_source\":{\"estado\":\"Pará\",\"estadoSigla\":\"PA\",\"municipio\":\"Marabá\",\"cnes\":\"0116335\",\"nomeCnes\":\"HOSPITAL DE CAMPANHA COVID 19 MARABA\",\"dataNotificacaoOcupacao\":\"2020-11-26T03:00:19.985Z\",\"ofertaRespiradores\":0,\"ofertaHospCli\":80,\"ofertaHospUti\":0,\"ofertaSRAGCli\":89,\"ofertaSRAGUti\":31,\"ocupHospCli\":0,\"ocupHospUti\":0,\"ocupSRAGCli\":3,\"ocupSRAGUti\":0,\"altas\":0,\"obitos\":0,\"ocupacaoInformada\":true,\"algumaOcupacaoInformada\":true}},{\"_index\":\"leito_ocupacao\",\"_type\":\"_doc\",\"_id\":\"12769\",\"_score\":1.0,\"_source\":{\"estado\":\"Rio de Janeiro\",\"estadoSigla\":\"rj\",\"municipio\":\"Niterói\",\"cnes\":\"12769\",\"dataNotificacaoOcupacao\":\"2020-10-18T03:00:09.902Z\",\"ocupHospCli\":19,\"ocupHospUti\":0,\"ocupSRAGCli\":1,\"ocupSRAGUti\":7,\"altas\":0,\"obitos\":0,\"ocupacaoInformada\":true,\"algumaOcupacaoInformada\":true}},{\"_index\":\"leito_ocupacao\",\"_type\":\"_doc\",\"_id\":\"9614990\",\"_score\":1.0,\"_source\":{\"estado\":\"Paraná\",\"estadoSigla\":\"pr\",\"municipio\":\"Marechal Cândido Rondon\",\"cnes\":\"9614990\",\"dataNotificacaoOcupacao\":\"2020-08-10T03:00:34.126Z\",\"ocupHospCli\":3,\"ocupHospUti\":0,\"ocupSRAGCli\":4,\"ocupSRAGUti\":0,\"altas\":2,\"obitos\":0,\"ocupacaoInformada\":true,\"algumaOcupacaoInformada\":true}},{\"_index\":\"leito_ocupacao\",\"_type\":\"_doc\",\"_id\":\"9768\",\"_score\":1.0,\"_source\":{\"estado\":\"Mato Grosso do Sul\",\"estadoSigla\":\"ms\",\"municipio\":\"Campo Grande\",\"cnes\":\"9768\",\"dataNotificacaoOcupacao\":\"2020-08-06T09:09:00.000Z\",\"ocupHospCli\":0,\"ocupHospUti\":0,\"ocupSRAGCli\":0,\"ocupSRAGUti\":0,\"altas\":0,\"obitos\":0,\"ocupacaoInformada\":true,\"algumaOcupacaoInformada\":true}},{\"_index\":\"leito_ocupacao\",\"_type\":\"_doc\",\"_id\":\"2509636\",\"_score\":1.0,\"_source\":{\"estado\":\"Bahia\",\"estadoSigla\":\"BA\",\"municipio\":\"Rio de Contas\",\"cnes\":\"2509636\",\"nomeCnes\":\"HOSPITAL DE RIO DE CONTAS\",\"dataNotificacaoOcupacao\":\"2020-08-10T03:00:27.587Z\",\"ofertaRespiradores\":0,\"ofertaHospCli\":17,\"ofertaHospUti\":0,\"ofertaSRAGCli\":0,\"ofertaSRAGUti\":0,\"ocupHospCli\":2,\"ocupHospUti\":0,\"ocupSRAGCli\":0,\"ocupSRAGUti\":0,\"altas\":0,\"obitos\":0,\"ocupacaoInformada\":true,\"algumaOcupacaoInformada\":true}},{\"_index\":\"leito_ocupacao\",\"_type\":\"_doc\",\"_id\":\"2687011\",\"_score\":1.0,\"_source\":{\"estado\":\"Paraná\",\"estadoSigla\":\"PR\",\"municipio\":\"Arapoti\",\"cnes\":\"2687011\",\"nomeCnes\":\"HOSPITAL MUNICIPAL 18 DE DEZEMBRO\",\"dataNotificacaoOcupacao\":\"2020-08-05T03:00:00.000Z\",\"ofertaRespiradores\":1,\"ofertaHospCli\":14,\"ofertaHospUti\":0,\"ofertaSRAGCli\":0,\"ofertaSRAGUti\":0,\"ocupHospCli\":1,\"ocupHospUti\":0,\"ocupSRAGCli\":0,\"ocupSRAGUti\":0,\"altas\":0,\"obitos\":0,\"ocupacaoInformada\":true,\"algumaOcupacaoInformada\":true}},{\"_index\":\"leito_ocupacao\",\"_type\":\"_doc\",\"_id\":\"2711451 \",\"_score\":1.0,\"_source\":{\"estado\":\"Pernambuco\",\"estadoSigla\":\"pe\",\"municipio\":\"Santa Cruz da Baixa Verde\",\"cnes\":\"2711451 \",\"dataNotificacaoOcupacao\":\"2020-08-07T03:00:21.909Z\",\"ocupHospCli\":8,\"ocupHospUti\":0,\"ocupSRAGCli\":5,\"ocupSRAGUti\":0,\"altas\":0,\"obitos\":0,\"ocupacaoInformada\":true,\"algumaOcupacaoInformada\":true}},{\"_index\":\"leito_ocupacao\",\"_type\":\"_doc\",\"_id\":\"708203113539445\",\"_score\":1.0,\"_source\":{\"estado\":\"Santa Catarina\",\"estadoSigla\":\"sc\",\"municipio\":\"Florianópolis\",\"cnes\":\"708203113539445\",\"dataNotificacaoOcupacao\":\"2020-08-09T03:00:20.896Z\",\"ocupHospCli\":59,\"ocupHospUti\":22,\"ocupSRAGCli\":8,\"ocupSRAGUti\":10,\"altas\":1,\"obitos\":0,\"ocupacaoInformada\":true,\"algumaOcupacaoInformada\":true}},{\"_index\":\"leito_ocupacao\",\"_type\":\"_doc\",\"_id\":\"2356449\",\"_score\":1.0,\"_source\":{\"estado\":\"Pernambuco\",\"estadoSigla\":\"PE\",\"municipio\":\"Primavera\",\"cnes\":\"2356449\",\"nomeCnes\":\"PRONTO ATENDIMENTO MENINO DEUS\",\"dataNotificacaoOcupacao\":\"2020-08-06T03:00:19.867Z\",\"ofertaRespiradores\":0,\"ofertaHospCli\":4,\"ofertaHospUti\":0,\"ofertaSRAGCli\":4,\"ofertaSRAGUti\":0,\"ocupHospCli\":0,\"ocupHospUti\":0,\"ocupSRAGCli\":3,\"ocupSRAGUti\":0,\"altas\":3,\"obitos\":0,\"ocupacaoInformada\":true,\"algumaOcupacaoInformada\":true}}]}}\n"
          ],
          "name": "stdout"
        }
      ]
    },
    {
      "cell_type": "markdown",
      "metadata": {
        "id": "G5L-aqctGgJo"
      },
      "source": [
        "# Tarefa 2\n",
        "\n",
        "## Engenharia reversa\n",
        "\n",
        "Monte um diagramas que representem modelos dos dados que você terá acesso e como pretende associá-los. Coloque abaixo uma imagem do diagrama."
      ]
    },
    {
      "cell_type": "code",
      "metadata": {
        "id": "Kj5vXhBvGgJp"
      },
      "source": [
        ""
      ],
      "execution_count": 2,
      "outputs": []
    }
  ]
}